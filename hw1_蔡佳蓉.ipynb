{
  "nbformat": 4,
  "nbformat_minor": 0,
  "metadata": {
    "colab": {
      "name": "hw1_蔡佳蓉.ipynb",
      "provenance": [],
      "collapsed_sections": [],
      "authorship_tag": "ABX9TyOOGr5t7soBHZhdp40aBNcM",
      "include_colab_link": true
    },
    "kernelspec": {
      "name": "python3",
      "display_name": "Python 3"
    },
    "language_info": {
      "name": "python"
    }
  },
  "cells": [
    {
      "cell_type": "markdown",
      "metadata": {
        "id": "view-in-github",
        "colab_type": "text"
      },
      "source": [
        "<a href=\"https://colab.research.google.com/github/cingsatsai1123/python4001/blob/main/hw1_%E8%94%A1%E4%BD%B3%E8%93%89.ipynb\" target=\"_parent\"><img src=\"https://colab.research.google.com/assets/colab-badge.svg\" alt=\"Open In Colab\"/></a>"
      ]
    },
    {
      "cell_type": "code",
      "execution_count": null,
      "metadata": {
        "id": "dgah6vT6LgnJ"
      },
      "outputs": [],
      "source": [
        "try:\n",
        "  num1 = int(input(\"請輸入第一個數字:\"))\n",
        "  num2 = int(input(\"請輸入第二字數字:\"))\n",
        "  num3 = num1 / num2\n",
        "  print(f\"{num3:.2f}\")\n",
        "except:\n",
        "  print(\"請輸入正確數字格式\")"
      ]
    },
    {
      "cell_type": "code",
      "source": [
        "nums = int(input(\"請輸入一個整數:\"))\n",
        "if nums % 2  == 0:\n",
        "  print(f\"{nums}為2的倍數\")\n",
        "if nums % 3 == 0:\n",
        "  print(f\"{nums}為3的倍數\")\n",
        "print(f\"{nums}為6的倍數\")"
      ],
      "metadata": {
        "id": "rRHVwh5fLn0q"
      },
      "execution_count": null,
      "outputs": []
    },
    {
      "cell_type": "code",
      "source": [
        "seconds = int(input())\n",
        "\n",
        "second = seconds % 60\n",
        "minutes = seconds // 60 \n",
        "minute = minutes % 60\n",
        "time = minutes // 60\n",
        "print(f\"{seconds}轉換成{time}時{minute}分{second}秒\")"
      ],
      "metadata": {
        "id": "NKZPf982Lux6"
      },
      "execution_count": null,
      "outputs": []
    },
    {
      "cell_type": "code",
      "source": [
        "#  使用者輸入 n (n 為偶數),則印出 1 3 5 7 9 ... n-1,使用 while 迴圈。(第四題卡住了,麻煩老師解答，謝謝!!)\n",
        "\n",
        "n = int(input(\"請輸入一個偶數\"))\n",
        "while True:\n",
        "  if n % 2 == 0:\n",
        "    m = n-1\n",
        "\n",
        "    print(f\"\")\n"
      ],
      "metadata": {
        "id": "3B60loxBMVDa"
      },
      "execution_count": null,
      "outputs": []
    }
  ]
}