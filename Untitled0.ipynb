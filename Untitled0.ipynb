{
  "nbformat": 4,
  "nbformat_minor": 0,
  "metadata": {
    "colab": {
      "name": "Untitled0.ipynb",
      "provenance": [],
      "authorship_tag": "ABX9TyPsQIy5lIobCk4+6QHiR3am",
      "include_colab_link": true
    },
    "kernelspec": {
      "name": "python3",
      "display_name": "Python 3"
    },
    "language_info": {
      "name": "python"
    }
  },
  "cells": [
    {
      "cell_type": "markdown",
      "metadata": {
        "id": "view-in-github",
        "colab_type": "text"
      },
      "source": [
        "<a href=\"https://colab.research.google.com/github/cingsatsai1123/python4001/blob/main/Untitled0.ipynb\" target=\"_parent\"><img src=\"https://colab.research.google.com/assets/colab-badge.svg\" alt=\"Open In Colab\"/></a>"
      ]
    },
    {
      "cell_type": "code",
      "execution_count": 39,
      "metadata": {
        "id": "umGtZD1SS7fQ"
      },
      "outputs": [],
      "source": [
        "class Warrior:\n",
        "  def __init__(self, name, gender, weapon =\"bat\"):\n",
        "    self.lv = 1\n",
        "    self.exp = 0\n",
        "    self.n = name\n",
        "    self.g = gender\n",
        "    self.w = weapon\n",
        "    print(\"This is Warrior class.\")\n",
        "\n",
        "  # 使用__str__的method:__str__是python內建的function，可以把屬性變成字串印出來\n",
        "  def __str__(self):             # 使用 return 所以不用 warrior1.str(), 直接 print(warrior1) 即可?\n",
        "    return (f\"Name:{self.n} Gender:{self.g} Weapon:{self.w} Level:{self.lv} Exp:{self.exp}\") # return 的資料格式:f-string ?\n",
        "\n",
        "  def attack(self):    # 使用 warrior1.attack() 呼叫，所以呼叫level_up()要用 self.level_up()?\n",
        "    self.exp += 40\n",
        "    self.level_up()\n",
        "    print(f\"{self.n} attack!! Level:{self.lv} Exp:{self.exp}\")\n",
        "  \n",
        "  def level_up(self):\n",
        "    if self.exp >= 100:\n",
        "      self.lv += 1\n",
        "      self.exp -= 100\n"
      ]
    },
    {
      "cell_type": "code",
      "source": [
        "class Enemy:\n",
        "  def __init__(self):\n",
        "    self.name = \"Monster\"\n",
        "    self.hp = 100"
      ],
      "metadata": {
        "id": "qIcGeaJDrVi6"
      },
      "execution_count": 43,
      "outputs": []
    },
    {
      "cell_type": "code",
      "source": [
        "warrior1 = Warrior(name = \"Thousand\", gender = \"Male\", weapon = \"Sword\")\n",
        "warrior2 = Warrior(name = \"Allie\", gender = \"Female\", weapon = \"Longbow\")\n"
      ],
      "metadata": {
        "colab": {
          "base_uri": "https://localhost:8080/"
        },
        "id": "sSLpDZJcVZuu",
        "outputId": "96ee37e6-cab3-495d-b2a4-25dcd7981b28"
      },
      "execution_count": 40,
      "outputs": [
        {
          "output_type": "stream",
          "name": "stdout",
          "text": [
            "This is Warrior class.\n",
            "This is Warrior class.\n"
          ]
        }
      ]
    },
    {
      "cell_type": "code",
      "source": [
        "print(f\"Warrior1:{warrior1}\")\n",
        "print(f\"Warrior2:{warrior2}\")\n",
        "print(warrior1)\n",
        "print(warrior2)"
      ],
      "metadata": {
        "colab": {
          "base_uri": "https://localhost:8080/"
        },
        "id": "gUBVEA0eWmg3",
        "outputId": "2f81323d-93fa-4d04-ef13-1e0c7d7dbdf7"
      },
      "execution_count": 41,
      "outputs": [
        {
          "output_type": "stream",
          "name": "stdout",
          "text": [
            "Warrior1:Name:Thousand Gender:Male Weapon:Sword Level:1 Exp:0\n",
            "Warrior2:Name:Allie Gender:Female Weapon:Longbow Level:1 Exp:0\n",
            "Name:Thousand Gender:Male Weapon:Sword Level:1 Exp:0\n",
            "Name:Allie Gender:Female Weapon:Longbow Level:1 Exp:0\n"
          ]
        }
      ]
    },
    {
      "cell_type": "code",
      "source": [
        "for i in range(5):\n",
        "  warrior1.attack()"
      ],
      "metadata": {
        "colab": {
          "base_uri": "https://localhost:8080/"
        },
        "id": "Y1aGgoWtW-q-",
        "outputId": "48afd03d-6862-4156-c321-71b561124a00"
      },
      "execution_count": 42,
      "outputs": [
        {
          "output_type": "stream",
          "name": "stdout",
          "text": [
            "Thousand attack!! Level:1 Exp:40\n",
            "Thousand attack!! Level:1 Exp:80\n",
            "Thousand attack!! Level:2 Exp:20\n",
            "Thousand attack!! Level:2 Exp:60\n",
            "Thousand attack!! Level:3 Exp:0\n"
          ]
        }
      ]
    }
  ]
}